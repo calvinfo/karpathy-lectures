{
 "cells": [
  {
   "cell_type": "code",
   "execution_count": 1,
   "id": "7fd88c28",
   "metadata": {},
   "outputs": [],
   "source": [
    "import torch\n",
    "import torch.nn.functional as F\n",
    "import matplotlib.pyplot as plt\n",
    "%matplotlib inline"
   ]
  },
  {
   "cell_type": "code",
   "execution_count": 2,
   "id": "171325bd",
   "metadata": {},
   "outputs": [
    {
     "data": {
      "text/plain": [
       "['emma', 'olivia', 'ava', 'isabella', 'sophia', 'charlotte', 'mia', 'amelia']"
      ]
     },
     "execution_count": 2,
     "metadata": {},
     "output_type": "execute_result"
    }
   ],
   "source": [
    "# read in all the words\n",
    "words = open('names.txt', 'r').read().splitlines()\n",
    "words[:8]"
   ]
  },
  {
   "cell_type": "code",
   "execution_count": 3,
   "id": "a41ce9ee",
   "metadata": {},
   "outputs": [
    {
     "data": {
      "text/plain": [
       "32033"
      ]
     },
     "execution_count": 3,
     "metadata": {},
     "output_type": "execute_result"
    }
   ],
   "source": [
    "len(words)"
   ]
  },
  {
   "cell_type": "code",
   "execution_count": 11,
   "id": "a9338c39",
   "metadata": {},
   "outputs": [
    {
     "data": {
      "text/plain": [
       "{1: 'a',\n",
       " 2: 'b',\n",
       " 3: 'c',\n",
       " 4: 'd',\n",
       " 5: 'e',\n",
       " 6: 'f',\n",
       " 7: 'g',\n",
       " 8: 'h',\n",
       " 9: 'i',\n",
       " 10: 'j',\n",
       " 11: 'k',\n",
       " 12: 'l',\n",
       " 13: 'm',\n",
       " 14: 'n',\n",
       " 15: 'o',\n",
       " 16: 'p',\n",
       " 17: 'q',\n",
       " 18: 'r',\n",
       " 19: 's',\n",
       " 20: 't',\n",
       " 21: 'u',\n",
       " 22: 'v',\n",
       " 23: 'w',\n",
       " 24: 'x',\n",
       " 25: 'y',\n",
       " 26: 'z',\n",
       " 0: '.'}"
      ]
     },
     "execution_count": 11,
     "metadata": {},
     "output_type": "execute_result"
    }
   ],
   "source": [
    "chars = sorted(list(set(''.join(words))))\n",
    "stoi = { s: i + 1 for i, s in enumerate(chars) }\n",
    "stoi['.'] = 0\n",
    "itos = { i: s for s, i in stoi.items() }\n",
    "itos"
   ]
  },
  {
   "cell_type": "code",
   "execution_count": 12,
   "id": "0a0e27e2",
   "metadata": {},
   "outputs": [],
   "source": [
    "block_size = 3\n",
    "\n",
    "def build_dataset(words):\n",
    "    X, Y = [], []\n",
    "    \n",
    "    for w in words:\n",
    "        context = [0] * block_size\n",
    "        for ch in w + '.':\n",
    "            ix = stoi[ch]\n",
    "            X.append(context)\n",
    "            Y.append(ix)\n",
    "            context = context[1:] + [ix]\n",
    "            \n",
    "    X = torch.tensor(X)\n",
    "    Y = torch.tensor(Y)\n",
    "    \n",
    "    return X, Y"
   ]
  },
  {
   "cell_type": "code",
   "execution_count": 13,
   "id": "19d4ec19",
   "metadata": {},
   "outputs": [],
   "source": [
    "import random\n",
    "random.seed(42)"
   ]
  },
  {
   "cell_type": "code",
   "execution_count": 15,
   "id": "a12d5771",
   "metadata": {},
   "outputs": [],
   "source": [
    "random.shuffle(words)\n",
    "n1 = int(0.8 * len(words))\n",
    "n2 = int(0.9 * len(words))\n",
    "\n",
    "Xtr,  Ytr  = build_dataset(words[:n1])\n",
    "Xdev, Ydev = build_dataset(words[n1:n2])\n",
    "Xte,  Yte  = build_dataset(words[n2:])"
   ]
  },
  {
   "cell_type": "code",
   "execution_count": 26,
   "id": "a53019bd",
   "metadata": {},
   "outputs": [
    {
     "name": "stdout",
     "output_type": "stream",
     "text": [
      "11897\n"
     ]
    }
   ],
   "source": [
    "# Our previous MLP implementation\n",
    "vocab_size = len(stoi)\n",
    "n_embed = 10 # the dimensions for character embedding in a vector\n",
    "n_hidden = 200 # number of neurons in the hidden layer\n",
    "\n",
    "g  = torch.Generator().manual_seed(2147483647)\n",
    "C  = torch.randn((vocab_size, n_embed),    generator = g) # our initial lookup table (an n_embed dimensional embedding)\n",
    "W1 = torch.randn((n_embed * block_size, n_hidden),      generator = g) # our hidden layer matrix\n",
    "b1 = torch.randn(n_hidden,                 generator = g) # our biases \n",
    "W2 = torch.randn((n_hidden, vocab_size),   generator = g) # our output layer\n",
    "b2 = torch.randn(vocab_size,               generator = g)\n",
    "\n",
    "parameters = [C, W1, b1, W2, b2]\n",
    "print(sum(p.nelement() for p in parameters))\n",
    "\n",
    "for p in parameters:\n",
    "    p.requires_grad = True"
   ]
  },
  {
   "cell_type": "code",
   "execution_count": 27,
   "id": "09ad49ba",
   "metadata": {},
   "outputs": [
    {
     "name": "stdout",
     "output_type": "stream",
     "text": [
      "      0/ 200000: 24.9158\n",
      "  10000/ 200000: 2.4926\n",
      "  20000/ 200000: 2.4397\n",
      "  30000/ 200000: 2.7249\n",
      "  40000/ 200000: 2.2882\n",
      "  50000/ 200000: 2.3702\n",
      "  60000/ 200000: 3.0447\n",
      "  70000/ 200000: 2.2345\n",
      "  80000/ 200000: 2.2451\n",
      "  90000/ 200000: 2.0264\n",
      " 100000/ 200000: 2.2131\n",
      " 110000/ 200000: 1.7773\n",
      " 120000/ 200000: 2.1576\n",
      " 130000/ 200000: 2.0001\n",
      " 140000/ 200000: 2.0393\n",
      " 150000/ 200000: 2.4155\n",
      " 160000/ 200000: 2.0013\n",
      " 170000/ 200000: 2.2775\n",
      " 180000/ 200000: 2.3017\n",
      " 190000/ 200000: 2.5306\n"
     ]
    }
   ],
   "source": [
    "max_steps = 200000\n",
    "batch_size = 32\n",
    "lossi = []\n",
    "\n",
    "for i in range(max_steps):\n",
    "    \n",
    "    # create our mini-batch\n",
    "    ix = torch.randint(0, Xtr.shape[0], (batch_size,), generator=g)\n",
    "    Xb, Yb = Xtr[ix], Ytr[ix] # batch X, Y\n",
    "    \n",
    "    # forward pass\n",
    "    emb = C[Xb]                         # embed the characters into vectors\n",
    "    embcat = emb.view(emb.shape[0], -1) # concat the vectors\n",
    "    hpreact = embcat @ W1 + b1          # hidden layer pre-activation\n",
    "    h = torch.tanh(hpreact)\n",
    "    \n",
    "    logits = h @ W2 + b2                # output layer\n",
    "    loss = F.cross_entropy(logits, Yb)  # loss function\n",
    "    \n",
    "    # backward pass\n",
    "    for p in parameters:\n",
    "        p.grad = None\n",
    "    loss.backward()\n",
    "    \n",
    "    # update\n",
    "    lr = 0.1 if i < 1000000 else 0.01\n",
    "    for p in parameters:\n",
    "        p.data += -lr * p.grad\n",
    "        \n",
    "    # track stats\n",
    "    if i % 10000 == 0:\n",
    "        print(f'{i:7d}/{max_steps:7d}: {loss.item():.4f}')\n",
    "    lossi.append(loss.log10().item())"
   ]
  },
  {
   "cell_type": "code",
   "execution_count": 28,
   "id": "6eb92b8e",
   "metadata": {},
   "outputs": [
    {
     "name": "stdout",
     "output_type": "stream",
     "text": [
      "train 2.2171318531036377\n",
      "val 2.275200605392456\n"
     ]
    }
   ],
   "source": [
    "@torch.no_grad() # avoid gradient tracking here (no back-propagation)\n",
    "def split_loss(split):\n",
    "    x,y = {\n",
    "        'train': (Xtr, Ytr),\n",
    "        'val':   (Xdev, Ydev),\n",
    "        'test':  (Xte, Yte)\n",
    "    }[split]\n",
    "    \n",
    "    emb = C[x]\n",
    "    embcat = emb.view(emb.shape[0], -1) # concat the vectors\n",
    "    hpreact = embcat @ W1 + b1          # hidden layer pre-activation\n",
    "    h = torch.tanh(hpreact)\n",
    "    \n",
    "    logits = h @ W2 + b2                # output layer\n",
    "    loss = F.cross_entropy(logits, y)  # loss function\n",
    "    print(split, loss.item())\n",
    "    \n",
    "split_loss('train')\n",
    "split_loss('val')"
   ]
  },
  {
   "cell_type": "code",
   "execution_count": 30,
   "id": "2ec62883",
   "metadata": {},
   "outputs": [
    {
     "name": "stdout",
     "output_type": "stream",
     "text": [
      "carmah.\n",
      "aar.\n",
      "hari.\n",
      "kimla.\n",
      "geaty.\n",
      "halassa.\n",
      "jazon.\n",
      "namperric.\n",
      "igeric.\n",
      "eliana.\n",
      "chaiiv.\n",
      "asleigh.\n",
      "ham.\n",
      "poi.\n",
      "demi.\n",
      "tia.\n",
      "lilah.\n",
      "vid.\n",
      "isi.\n",
      "athon.\n"
     ]
    }
   ],
   "source": [
    "# sample from our model\n",
    "g = torch.Generator().manual_seed(2147483647 + 10)\n",
    "\n",
    "for _ in range(20):\n",
    "    \n",
    "    out = []\n",
    "    context = [0] * block_size\n",
    "    while True:\n",
    "        \n",
    "        emb = C[torch.tensor([context])]\n",
    "        h = torch.tanh(emb.view(1, -1) @ W1 + b1)\n",
    "        logits = h @ W2 + b2\n",
    "        \n",
    "        probs = F.softmax(logits, dim=1)\n",
    "        ix = torch.multinomial(probs, num_samples=1, generator=g).item()\n",
    "        \n",
    "        context = context[1:] + [ix]\n",
    "        out.append(ix)\n",
    "        \n",
    "        if ix == 0:\n",
    "            break\n",
    "            \n",
    "    print(\"\".join(itos[i] for i in out))"
   ]
  }
 ],
 "metadata": {
  "kernelspec": {
   "display_name": "Python 3 (ipykernel)",
   "language": "python",
   "name": "python3"
  },
  "language_info": {
   "codemirror_mode": {
    "name": "ipython",
    "version": 3
   },
   "file_extension": ".py",
   "mimetype": "text/x-python",
   "name": "python",
   "nbconvert_exporter": "python",
   "pygments_lexer": "ipython3",
   "version": "3.9.13"
  }
 },
 "nbformat": 4,
 "nbformat_minor": 5
}
